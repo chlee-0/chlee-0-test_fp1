{
  "nbformat": 4,
  "nbformat_minor": 0,
  "metadata": {
    "kernelspec": {
      "display_name": "Singular",
      "env": {
        "PS1": "$"
      },
      "language": "singular",
      "name": "singular"
    },
    "language_info": {
      "codemirror_mode": "singular",
      "file_extension": ".singular",
      "mimetype": "text/x-singular",
      "name": "Singular"
    },
    "colab": {
      "name": "2020-06-17-Example 1.1.8 (1) (computation in fields).ipynb",
      "provenance": []
    }
  },
  "cells": [
    {
      "cell_type": "markdown",
      "metadata": {
        "id": "i5ium01-2C9y",
        "colab_type": "text"
      },
      "source": [
        "# Example 1.1.8 (1) (computation in fields)\n",
        "> Example from Singular introduction to commutative algebra\n",
        "\n",
        "- toc: true \n",
        "- badges: true\n",
        "- comments: true\n",
        "- categories: [jupyter, singular]\n",
        "- image: images/chart-preview.png"
      ]
    },
    {
      "cell_type": "code",
      "metadata": {
        "id": "4XLH01VS2C97",
        "colab_type": "code",
        "colab": {}
      },
      "source": [
        "ring A=0,x,dp;"
      ],
      "execution_count": null,
      "outputs": []
    },
    {
      "cell_type": "code",
      "metadata": {
        "id": "VmV00Ya62C-E",
        "colab_type": "code",
        "colab": {}
      },
      "source": [
        "number n=12345/6789;"
      ],
      "execution_count": null,
      "outputs": []
    },
    {
      "cell_type": "code",
      "metadata": {
        "id": "neQqh-Gw2C-J",
        "colab_type": "code",
        "colab": {},
        "outputId": "315ac03d-81d1-4810-c807-30b7a2b7d9de"
      },
      "source": [
        "n^5;"
      ],
      "execution_count": null,
      "outputs": [
        {
          "output_type": "execute_result",
          "data": {
            "text/plain": [
              "1179910858126071875/59350279669807543\n"
            ]
          },
          "metadata": {
            "tags": []
          },
          "execution_count": 4
        }
      ]
    },
    {
      "cell_type": "code",
      "metadata": {
        "id": "F9MU2q1t2C-T",
        "colab_type": "code",
        "colab": {}
      },
      "source": [
        ""
      ],
      "execution_count": null,
      "outputs": []
    }
  ]
}