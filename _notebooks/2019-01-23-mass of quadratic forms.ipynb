{
  "nbformat": 4,
  "nbformat_minor": 0,
  "metadata": {
    "kernelspec": {
      "display_name": "SageMath 8.1",
      "language": "",
      "name": "sagemath"
    },
    "language_info": {
      "codemirror_mode": {
        "name": "ipython",
        "version": 2
      },
      "file_extension": ".py",
      "mimetype": "text/x-python",
      "name": "python",
      "nbconvert_exporter": "python",
      "pygments_lexer": "ipython2",
      "version": "2.7.15rc1"
    },
    "colab": {
      "name": "2019-01-23-mass of quadratic forms.ipynb",
      "provenance": []
    }
  },
  "cells": [
    {
      "cell_type": "markdown",
      "metadata": {
        "id": "jvH4wQrq79mq",
        "colab_type": "text"
      },
      "source": [
        "# mass of quadratic forms\n",
        "> mass computation using SageMath\n",
        "\n",
        "- toc: true \n",
        "- badges: true\n",
        "- comments: true\n",
        "- categories: [jupyter, sagemath]\n",
        "- image: images/chart-preview.png"
      ]
    },
    {
      "cell_type": "markdown",
      "metadata": {
        "id": "emFq1O8Y7vvj",
        "colab_type": "text"
      },
      "source": [
        "see local file \"/usr/lib/python2.7/dist-packages/sage/quadratic_forms/quadratic_form__mass__Siegel_densities.py\""
      ]
    },
    {
      "cell_type": "code",
      "metadata": {
        "id": "B6EHLn9J7vvl",
        "colab_type": "code",
        "colab": {},
        "outputId": "a3e93c05-b57c-4d97-a6cd-74b3862f8b22"
      },
      "source": [
        "Q = DiagonalQuadraticForm(ZZ, [1,1]);\n",
        "for p in [3,5,7,11,13,17,19] :\n",
        "    print([p,Q.Pall_mass_density_at_odd_prime(p)])"
      ],
      "execution_count": null,
      "outputs": [
        {
          "output_type": "stream",
          "text": [
            "[(0, Quadratic form in 2 variables over Integer Ring with coefficients: \n",
            "[ 1 0 ]\n",
            "[ * 1 ])] [(0, 2, 4)] [2/3] 2/3\n",
            "[3, 2/3]\n",
            "[(0, Quadratic form in 2 variables over Integer Ring with coefficients: \n",
            "[ 1 0 ]\n",
            "[ * 1 ])] [(0, 2, 4)] [6/5] 6/5\n",
            "[5, 6/5]\n",
            "[(0, Quadratic form in 2 variables over Integer Ring with coefficients: \n",
            "[ 1 0 ]\n",
            "[ * 1 ])] [(0, 2, 4)] [6/7] 6/7\n",
            "[7, 6/7]\n",
            "[(0, Quadratic form in 2 variables over Integer Ring with coefficients: \n",
            "[ 1 0 ]\n",
            "[ * 1 ])] [(0, 2, 4)] [10/11] 10/11\n",
            "[11, 10/11]\n",
            "[(0, Quadratic form in 2 variables over Integer Ring with coefficients: \n",
            "[ 1 0 ]\n",
            "[ * 1 ])] [(0, 2, 4)] [14/13] 14/13\n",
            "[13, 14/13]\n",
            "[(0, Quadratic form in 2 variables over Integer Ring with coefficients: \n",
            "[ 1 0 ]\n",
            "[ * 1 ])] [(0, 2, 4)] [18/17] 18/17\n",
            "[17, 18/17]\n",
            "[(0, Quadratic form in 2 variables over Integer Ring with coefficients: \n",
            "[ 1 0 ]\n",
            "[ * 1 ])] [(0, 2, 4)] [18/19] 18/19\n",
            "[19, 18/19]\n"
          ],
          "name": "stdout"
        }
      ]
    },
    {
      "cell_type": "code",
      "metadata": {
        "id": "bW_I6uvY7vv7",
        "colab_type": "code",
        "colab": {},
        "outputId": "c8c782f3-5139-4895-9792-fa83cde93ccc"
      },
      "source": [
        "Q=QuadraticForm(ZZ, 4, [1,1,1,1,1,0,1,2,2,2])\n",
        "Q.Gram_matrix_rational()"
      ],
      "execution_count": null,
      "outputs": [
        {
          "output_type": "execute_result",
          "data": {
            "text/plain": [
              "[  1 1/2 1/2 1/2]\n",
              "[1/2   1   0 1/2]\n",
              "[1/2   0   2   1]\n",
              "[1/2 1/2   1   2]"
            ]
          },
          "metadata": {
            "tags": []
          },
          "execution_count": 12
        }
      ]
    },
    {
      "cell_type": "code",
      "metadata": {
        "id": "UQ1oN5de7vwQ",
        "colab_type": "code",
        "colab": {},
        "outputId": "42be7087-4f5c-40c6-c31a-f440cad2e51f"
      },
      "source": [
        "Q = DiagonalQuadraticForm(ZZ, [1,3])\n",
        "Q.Pall_mass_density_at_odd_prime(3)"
      ],
      "execution_count": null,
      "outputs": [
        {
          "output_type": "stream",
          "text": [
            "[(0, Quadratic form in 1 variables over Integer Ring with coefficients: \n",
            "[ 1 ]), (1, Quadratic form in 1 variables over Integer Ring with coefficients: \n",
            "[ 1 ])] [(0, 1, 2), (1, 1, 2)] [1, 1] 2\n"
          ],
          "name": "stdout"
        },
        {
          "output_type": "execute_result",
          "data": {
            "text/plain": [
              "2"
            ]
          },
          "metadata": {
            "tags": []
          },
          "execution_count": 18
        }
      ]
    },
    {
      "cell_type": "code",
      "metadata": {
        "id": "Re6a3wpp7vwc",
        "colab_type": "code",
        "colab": {},
        "outputId": "c6b7d7b8-5e28-4002-e7ce-2dfd59542c8e"
      },
      "source": [
        "Q.Pall_mass_density_at_odd_prime(5)"
      ],
      "execution_count": null,
      "outputs": [
        {
          "output_type": "stream",
          "text": [
            "[(0, Quadratic form in 2 variables over Integer Ring with coefficients: \n",
            "[ 1 0 ]\n",
            "[ * 3 ]), (1, Quadratic form in 2 variables over Integer Ring with coefficients: \n",
            "[ 12 0 ]\n",
            "[ * 36 ])] [(0, 2, 12), (1, 2, 1728)] [4/5, 4/5] 32/125\n"
          ],
          "name": "stdout"
        },
        {
          "output_type": "execute_result",
          "data": {
            "text/plain": [
              "32/125"
            ]
          },
          "metadata": {
            "tags": []
          },
          "execution_count": 13
        }
      ]
    },
    {
      "cell_type": "code",
      "metadata": {
        "id": "Smj-QR517vww",
        "colab_type": "code",
        "colab": {},
        "outputId": "fe1c2db9-b6bf-479d-bc2d-ad0120998a4a"
      },
      "source": [
        "Q=QuadraticForm(ZZ, 4, [2,2,2,2,2,0,2,4,4,4])\n",
        "Q.Pall_mass_density_at_odd_prime(5)"
      ],
      "execution_count": null,
      "outputs": [
        {
          "output_type": "stream",
          "text": [
            "[(0, Quadratic form in 2 variables over Integer Ring with coefficients: \n",
            "[ 2 0 ]\n",
            "[ * 6 ]), (1, Quadratic form in 2 variables over Integer Ring with coefficients: \n",
            "[ 24 0 ]\n",
            "[ * 72 ])] [(0, 2, 48), (1, 2, 6912)] [4/5, 4/5] 32/125\n"
          ],
          "name": "stdout"
        },
        {
          "output_type": "execute_result",
          "data": {
            "text/plain": [
              "32/125"
            ]
          },
          "metadata": {
            "tags": []
          },
          "execution_count": 11
        }
      ]
    },
    {
      "cell_type": "code",
      "metadata": {
        "id": "GJLJG16z7vw5",
        "colab_type": "code",
        "colab": {},
        "outputId": "2d1e929d-02cd-4948-b46c-be01aa519881"
      },
      "source": [
        "Q = DiagonalQuadraticForm(ZZ, [1,1,1])\n",
        "Q.Kitaoka_mass_at_2()"
      ],
      "execution_count": null,
      "outputs": [
        {
          "output_type": "execute_result",
          "data": {
            "text/plain": [
              "1/2"
            ]
          },
          "metadata": {
            "tags": []
          },
          "execution_count": 2
        }
      ]
    },
    {
      "cell_type": "code",
      "metadata": {
        "id": "2fhPPB0O7vw_",
        "colab_type": "code",
        "colab": {},
        "outputId": "7b7b0d5e-2833-4f16-c613-623779e11558"
      },
      "source": [
        "Q = DiagonalQuadraticForm(ZZ, [1,1,1])\n",
        "Q.Watson_mass_at_2()"
      ],
      "execution_count": null,
      "outputs": [
        {
          "output_type": "execute_result",
          "data": {
            "text/plain": [
              "384"
            ]
          },
          "metadata": {
            "tags": []
          },
          "execution_count": 3
        }
      ]
    },
    {
      "cell_type": "code",
      "metadata": {
        "id": "eoM3d6u77vxF",
        "colab_type": "code",
        "colab": {},
        "outputId": "83b79d1c-4283-4268-f43a-f772604ff759"
      },
      "source": [
        "Print(\"a\")"
      ],
      "execution_count": null,
      "outputs": [
        {
          "output_type": "error",
          "ename": "NameError",
          "evalue": "name 'Print' is not defined",
          "traceback": [
            "\u001b[0;31m---------------------------------------------------------------------------\u001b[0m",
            "\u001b[0;31mNameError\u001b[0m                                 Traceback (most recent call last)",
            "\u001b[0;32m<ipython-input-15-b33d3f360c16>\u001b[0m in \u001b[0;36m<module>\u001b[0;34m()\u001b[0m\n\u001b[0;32m----> 1\u001b[0;31m \u001b[0mPrint\u001b[0m\u001b[0;34m(\u001b[0m\u001b[0;34m\"a\"\u001b[0m\u001b[0;34m)\u001b[0m\u001b[0;34m\u001b[0m\u001b[0m\n\u001b[0m",
            "\u001b[0;31mNameError\u001b[0m: name 'Print' is not defined"
          ]
        }
      ]
    },
    {
      "cell_type": "code",
      "metadata": {
        "id": "zHo7OnfB7vxL",
        "colab_type": "code",
        "colab": {}
      },
      "source": [
        ""
      ],
      "execution_count": null,
      "outputs": []
    }
  ]
}