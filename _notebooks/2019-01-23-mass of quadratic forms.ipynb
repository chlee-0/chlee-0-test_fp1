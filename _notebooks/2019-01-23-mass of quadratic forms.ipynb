{
 "cells": [
  {
   "cell_type": "markdown",
   "metadata": {},
   "source": [
    "see local file \"/usr/lib/python2.7/dist-packages/sage/quadratic_forms/quadratic_form__mass__Siegel_densities.py\""
   ]
  },
  {
   "cell_type": "code",
   "execution_count": 17,
   "metadata": {},
   "outputs": [
    {
     "name": "stdout",
     "output_type": "stream",
     "text": [
      "[(0, Quadratic form in 2 variables over Integer Ring with coefficients: \n",
      "[ 1 0 ]\n",
      "[ * 1 ])] [(0, 2, 4)] [2/3] 2/3\n",
      "[3, 2/3]\n",
      "[(0, Quadratic form in 2 variables over Integer Ring with coefficients: \n",
      "[ 1 0 ]\n",
      "[ * 1 ])] [(0, 2, 4)] [6/5] 6/5\n",
      "[5, 6/5]\n",
      "[(0, Quadratic form in 2 variables over Integer Ring with coefficients: \n",
      "[ 1 0 ]\n",
      "[ * 1 ])] [(0, 2, 4)] [6/7] 6/7\n",
      "[7, 6/7]\n",
      "[(0, Quadratic form in 2 variables over Integer Ring with coefficients: \n",
      "[ 1 0 ]\n",
      "[ * 1 ])] [(0, 2, 4)] [10/11] 10/11\n",
      "[11, 10/11]\n",
      "[(0, Quadratic form in 2 variables over Integer Ring with coefficients: \n",
      "[ 1 0 ]\n",
      "[ * 1 ])] [(0, 2, 4)] [14/13] 14/13\n",
      "[13, 14/13]\n",
      "[(0, Quadratic form in 2 variables over Integer Ring with coefficients: \n",
      "[ 1 0 ]\n",
      "[ * 1 ])] [(0, 2, 4)] [18/17] 18/17\n",
      "[17, 18/17]\n",
      "[(0, Quadratic form in 2 variables over Integer Ring with coefficients: \n",
      "[ 1 0 ]\n",
      "[ * 1 ])] [(0, 2, 4)] [18/19] 18/19\n",
      "[19, 18/19]\n"
     ]
    }
   ],
   "source": [
    "Q = DiagonalQuadraticForm(ZZ, [1,1]);\n",
    "for p in [3,5,7,11,13,17,19] :\n",
    "    print([p,Q.Pall_mass_density_at_odd_prime(p)])"
   ]
  },
  {
   "cell_type": "code",
   "execution_count": 12,
   "metadata": {},
   "outputs": [
    {
     "data": {
      "text/plain": [
       "[  1 1/2 1/2 1/2]\n",
       "[1/2   1   0 1/2]\n",
       "[1/2   0   2   1]\n",
       "[1/2 1/2   1   2]"
      ]
     },
     "execution_count": 12,
     "metadata": {},
     "output_type": "execute_result"
    }
   ],
   "source": [
    "Q=QuadraticForm(ZZ, 4, [1,1,1,1,1,0,1,2,2,2])\n",
    "Q.Gram_matrix_rational()"
   ]
  },
  {
   "cell_type": "code",
   "execution_count": 18,
   "metadata": {},
   "outputs": [
    {
     "name": "stdout",
     "output_type": "stream",
     "text": [
      "[(0, Quadratic form in 1 variables over Integer Ring with coefficients: \n",
      "[ 1 ]), (1, Quadratic form in 1 variables over Integer Ring with coefficients: \n",
      "[ 1 ])] [(0, 1, 2), (1, 1, 2)] [1, 1] 2\n"
     ]
    },
    {
     "data": {
      "text/plain": [
       "2"
      ]
     },
     "execution_count": 18,
     "metadata": {},
     "output_type": "execute_result"
    }
   ],
   "source": [
    "Q = DiagonalQuadraticForm(ZZ, [1,3])\n",
    "Q.Pall_mass_density_at_odd_prime(3)"
   ]
  },
  {
   "cell_type": "code",
   "execution_count": 13,
   "metadata": {},
   "outputs": [
    {
     "name": "stdout",
     "output_type": "stream",
     "text": [
      "[(0, Quadratic form in 2 variables over Integer Ring with coefficients: \n",
      "[ 1 0 ]\n",
      "[ * 3 ]), (1, Quadratic form in 2 variables over Integer Ring with coefficients: \n",
      "[ 12 0 ]\n",
      "[ * 36 ])] [(0, 2, 12), (1, 2, 1728)] [4/5, 4/5] 32/125\n"
     ]
    },
    {
     "data": {
      "text/plain": [
       "32/125"
      ]
     },
     "execution_count": 13,
     "metadata": {},
     "output_type": "execute_result"
    }
   ],
   "source": [
    "Q.Pall_mass_density_at_odd_prime(5)"
   ]
  },
  {
   "cell_type": "code",
   "execution_count": 11,
   "metadata": {},
   "outputs": [
    {
     "name": "stdout",
     "output_type": "stream",
     "text": [
      "[(0, Quadratic form in 2 variables over Integer Ring with coefficients: \n",
      "[ 2 0 ]\n",
      "[ * 6 ]), (1, Quadratic form in 2 variables over Integer Ring with coefficients: \n",
      "[ 24 0 ]\n",
      "[ * 72 ])] [(0, 2, 48), (1, 2, 6912)] [4/5, 4/5] 32/125\n"
     ]
    },
    {
     "data": {
      "text/plain": [
       "32/125"
      ]
     },
     "execution_count": 11,
     "metadata": {},
     "output_type": "execute_result"
    }
   ],
   "source": [
    "Q=QuadraticForm(ZZ, 4, [2,2,2,2,2,0,2,4,4,4])\n",
    "Q.Pall_mass_density_at_odd_prime(5)"
   ]
  },
  {
   "cell_type": "code",
   "execution_count": 2,
   "metadata": {},
   "outputs": [
    {
     "data": {
      "text/plain": [
       "1/2"
      ]
     },
     "execution_count": 2,
     "metadata": {},
     "output_type": "execute_result"
    }
   ],
   "source": [
    "Q = DiagonalQuadraticForm(ZZ, [1,1,1])\n",
    "Q.Kitaoka_mass_at_2()"
   ]
  },
  {
   "cell_type": "code",
   "execution_count": 3,
   "metadata": {},
   "outputs": [
    {
     "data": {
      "text/plain": [
       "384"
      ]
     },
     "execution_count": 3,
     "metadata": {},
     "output_type": "execute_result"
    }
   ],
   "source": [
    "Q = DiagonalQuadraticForm(ZZ, [1,1,1])\n",
    "Q.Watson_mass_at_2()"
   ]
  },
  {
   "cell_type": "code",
   "execution_count": 15,
   "metadata": {},
   "outputs": [
    {
     "ename": "NameError",
     "evalue": "name 'Print' is not defined",
     "output_type": "error",
     "traceback": [
      "\u001b[0;31m---------------------------------------------------------------------------\u001b[0m",
      "\u001b[0;31mNameError\u001b[0m                                 Traceback (most recent call last)",
      "\u001b[0;32m<ipython-input-15-b33d3f360c16>\u001b[0m in \u001b[0;36m<module>\u001b[0;34m()\u001b[0m\n\u001b[0;32m----> 1\u001b[0;31m \u001b[0mPrint\u001b[0m\u001b[0;34m(\u001b[0m\u001b[0;34m\"a\"\u001b[0m\u001b[0;34m)\u001b[0m\u001b[0;34m\u001b[0m\u001b[0m\n\u001b[0m",
      "\u001b[0;31mNameError\u001b[0m: name 'Print' is not defined"
     ]
    }
   ],
   "source": [
    "Print(\"a\")"
   ]
  },
  {
   "cell_type": "code",
   "execution_count": null,
   "metadata": {},
   "outputs": [],
   "source": []
  }
 ],
 "metadata": {
  "kernelspec": {
   "display_name": "SageMath 8.1",
   "language": "",
   "name": "sagemath"
  },
  "language_info": {
   "codemirror_mode": {
    "name": "ipython",
    "version": 2
   },
   "file_extension": ".py",
   "mimetype": "text/x-python",
   "name": "python",
   "nbconvert_exporter": "python",
   "pygments_lexer": "ipython2",
   "version": "2.7.15rc1"
  }
 },
 "nbformat": 4,
 "nbformat_minor": 2
}
