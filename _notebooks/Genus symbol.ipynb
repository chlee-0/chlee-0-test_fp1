{
 "cells": [
  {
   "cell_type": "markdown",
   "metadata": {
    "collapsed": false
   },
   "source": [
    "# mass of quadratic forms\n",
    "> mass computation using SageMath\n",
    "\n",
    "- toc: true \n",
    "- badges: true\n",
    "- comments: true\n",
    "- categories: [jupyter, sagemath]\n",
    "- image: images/chart-preview.png"
   ]
  },
  {
   "cell_type": "code",
   "execution_count": 1,
   "metadata": {
    "collapsed": false
   },
   "outputs": [
    {
     "data": {
      "text/plain": [
       "Genus of\n",
       "[ -2   0   0   0   0   0   0   0   0]\n",
       "[  0   4   0   0   0   0   0   0   0]\n",
       "[  0   0  -6   0   0   0   0   0   0]\n",
       "[  0   0   0   8   0   0   0   0   0]\n",
       "[  0   0   0   0 -10   0   0   0   0]\n",
       "[  0   0   0   0   0  12   0   0   0]\n",
       "[  0   0   0   0   0   0 -14   0   0]\n",
       "[  0   0   0   0   0   0   0  16   0]\n",
       "[  0   0   0   0   0   0   0   0 -18]\n",
       "Signature:  (4, 5)\n",
       "Genus symbol at 2:    [2^-5 4^2 8^1 16^1]_1\n",
       "Genus symbol at 3:     1^6 3^2 9^1\n",
       "Genus symbol at 5:     1^8 5^-1\n",
       "Genus symbol at 7:     1^-8 7^-1"
      ]
     },
     "execution_count": 1,
     "metadata": {
     },
     "output_type": "execute_result"
    }
   ],
   "source": [
    "from sage.quadratic_forms.genera.genus import Genus\n",
    "from sage.quadratic_forms.genera.genus import GenusSymbol_global_ring\n",
    "A = DiagonalQuadraticForm(ZZ, [-1, 2, -3, 4, -5, 6, -7, 8, -9]).Hessian_matrix()\n",
    "Genus(A)"
   ]
  },
  {
   "cell_type": "code",
   "execution_count": 2,
   "metadata": {
    "collapsed": false
   },
   "outputs": [
   ],
   "source": [
    "from sage.quadratic_forms.genera.genus import p_adic_symbol\n",
    "from sage.quadratic_forms.genera.genus import Genus_Symbol_p_adic_ring"
   ]
  },
  {
   "cell_type": "code",
   "execution_count": 3,
   "metadata": {
    "collapsed": false
   },
   "outputs": [
    {
     "data": {
      "text/plain": [
       "Genus symbol at 3:     1^6 3^2 9^1"
      ]
     },
     "execution_count": 3,
     "metadata": {
     },
     "output_type": "execute_result"
    }
   ],
   "source": [
    "p=3\n",
    "G3 = Genus_Symbol_p_adic_ring(p, p_adic_symbol(A, p, 2)); G3"
   ]
  },
  {
   "cell_type": "code",
   "execution_count": 4,
   "metadata": {
    "collapsed": false
   },
   "outputs": [
    {
     "data": {
      "text/plain": [
       "Genus symbol at 5:     1^8 5^-1"
      ]
     },
     "execution_count": 4,
     "metadata": {
     },
     "output_type": "execute_result"
    }
   ],
   "source": [
    "p=5\n",
    "G5 = Genus_Symbol_p_adic_ring(5, p_adic_symbol(A, 5, 2)); G5"
   ]
  },
  {
   "cell_type": "code",
   "execution_count": 5,
   "metadata": {
    "collapsed": false
   },
   "outputs": [
    {
     "data": {
      "text/plain": [
       "Genus symbol at 7:     1^-8 7^-1"
      ]
     },
     "execution_count": 5,
     "metadata": {
     },
     "output_type": "execute_result"
    }
   ],
   "source": [
    "p=7\n",
    "G7 = Genus_Symbol_p_adic_ring(7, p_adic_symbol(A, 7, 2)); G7"
   ]
  },
  {
   "cell_type": "code",
   "execution_count": 0,
   "metadata": {
    "collapsed": false
   },
   "outputs": [
   ],
   "source": [
   ]
  }
 ],
 "metadata": {
  "kernelspec": {
   "display_name": "SageMath (system-wide)",
   "language": "sagemath",
   "metadata": {
    "cocalc": {
     "description": "Open-source mathematical software system",
     "priority": -1,
     "url": "https://www.sagemath.org/"
    }
   },
   "name": "sagemath"
  },
  "language_info": {
   "codemirror_mode": {
    "name": "ipython",
    "version": 2
   },
   "file_extension": ".py",
   "mimetype": "text/x-python",
   "name": "python",
   "nbconvert_exporter": "python",
   "pygments_lexer": "ipython2",
   "version": "2.7.15"
  }
 },
 "nbformat": 4,
 "nbformat_minor": 4
}